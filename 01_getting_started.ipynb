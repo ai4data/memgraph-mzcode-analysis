{
 "cells": [
  {
   "cell_type": "markdown",
   "metadata": {},
   "source": [
    "# Getting Started with SSIS Northwind Graph in Memgraph\n",
    "\n",
    "This tutorial will help you explore the SSIS Northwind graph that was created by metazcode and stored in Memgraph.\n",
    "\n",
    "## What We'll Learn\n",
    "- Connect to Memgraph and verify the SSIS Northwind data\n",
    "- Understand the graph structure (nodes and relationships)\n",
    "- Basic Cypher queries for exploration\n",
    "- Explore the analytics-ready features (materialized views, metadata)\n",
    "\n",
    "## Prerequisites\n",
    "- SSIS Northwind data already analyzed and stored in Memgraph\n",
    "- Memgraph database running (docker-compose up -d)\n",
    "- Python environment with required packages"
   ]
  },
  {
   "cell_type": "markdown",
   "metadata": {},
   "source": [
    "## Step 1: Install Required Packages"
   ]
  },
  {
   "cell_type": "code",
   "execution_count": null,
   "metadata": {},
   "outputs": [],
   "source": [
    "# Install required packages if not already installed\n",
    "!pip install mgclient pandas matplotlib seaborn jupyter"
   ]
  },
  {
   "cell_type": "markdown",
   "metadata": {},
   "source": [
    "## Step 2: Connect to Memgraph"
   ]
  },
  {
   "cell_type": "code",
   "execution_count": null,
   "metadata": {},
   "outputs": [],
   "source": [
    "import mgclient\n",
    "import pandas as pd\n",
    "import json\n",
    "from datetime import datetime\n",
    "#mzcode-memgraph\n",
    "# Connect to Memgraph\n",
    "def connect_to_memgraph():\n",
    "    \"\"\"Connect to Memgraph database.\"\"\"\n",
    "    try:\n",
    "        connection = mgclient.connect(\n",
    "            host='localhost',\n",
    "            port=7687,\n",
    "            username='',\n",
    "            password=''\n",
    "        )\n",
    "        print(\"✅ Connected to Memgraph successfully!\")\n",
    "        return connection\n",
    "    except Exception as e:\n",
    "        print(f\"❌ Failed to connect to Memgraph: {e}\")\n",
    "        print(\"Make sure Memgraph is running: docker-compose up -d\")\n",
    "        return None\n",
    "\n",
    "# Create connection\n",
    "mg = connect_to_memgraph()"
   ]
  },
  {
   "cell_type": "markdown",
   "metadata": {},
   "source": [
    "## Step 3: Helper Functions"
   ]
  },
  {
   "cell_type": "code",
   "execution_count": null,
   "metadata": {},
   "outputs": [],
   "source": [
    "def execute_query(query, description=None):\n",
    "    \"\"\"Execute a Cypher query and return results as DataFrame.\"\"\"\n",
    "    if description:\n",
    "        print(f\"\\n🔍 {description}\")\n",
    "        print(f\"Query: {query}\")\n",
    "        print(\"-\" * 50)\n",
    "    \n",
    "    try:\n",
    "        cursor = mg.cursor()\n",
    "        cursor.execute(query)\n",
    "        results = cursor.fetchall()\n",
    "        \n",
    "        if results:\n",
    "            # Get column names\n",
    "            columns = [desc.name for desc in cursor.description] if cursor.description else ['result']\n",
    "            # Create DataFrame\n",
    "            df = pd.DataFrame(results, columns=columns)\n",
    "            print(f\"Found {len(df)} results:\")\n",
    "            return df\n",
    "        else:\n",
    "            print(\"No results found.\")\n",
    "            return pd.DataFrame()\n",
    "            \n",
    "    except Exception as e:\n",
    "        print(f\"❌ Query failed: {e}\")\n",
    "        return pd.DataFrame()\n",
    "\n",
    "def pretty_print_json(data, max_length=500):\n",
    "    \"\"\"Pretty print JSON data with length limit.\"\"\"\n",
    "    if isinstance(data, str):\n",
    "        try:\n",
    "            data = json.loads(data)\n",
    "        except:\n",
    "            pass\n",
    "    \n",
    "    json_str = json.dumps(data, indent=2)\n",
    "    if len(json_str) > max_length:\n",
    "        json_str = json_str[:max_length] + \"\\\\n...truncated...\"\n",
    "    print(json_str)"
   ]
  },
  {
   "cell_type": "markdown",
   "metadata": {},
   "source": [
    "## Step 4: Verify SSIS Northwind Data"
   ]
  },
  {
   "cell_type": "code",
   "execution_count": null,
   "metadata": {},
   "outputs": [],
   "source": [
    "# Check if we have data in the database\n",
    "overview_df = execute_query(\n",
    "    \"MATCH (n) RETURN count(n) as total_nodes\",\n",
    "    \"Checking total nodes in database\"\n",
    ")\n",
    "display(overview_df)"
   ]
  },
  {
   "cell_type": "code",
   "execution_count": null,
   "metadata": {},
   "outputs": [],
   "source": [
    "# Check for edges/relationships\n",
    "edges_df = execute_query(\n",
    "    \"MATCH ()-[r]->() RETURN count(r) as total_edges\",\n",
    "    \"Checking total edges in database\"\n",
    ")\n",
    "display(edges_df)"
   ]
  },
  {
   "cell_type": "code",
   "execution_count": null,
   "metadata": {},
   "outputs": [],
   "source": [
    "# Check node types to confirm we have SSIS data\n",
    "node_types_df = execute_query(\n",
    "    \"MATCH (n) RETURN n.node_type as node_type, count(n) as count ORDER BY count DESC\",\n",
    "    \"Analyzing node types in the SSIS Northwind graph\"\n",
    ")\n",
    "display(node_types_df)"
   ]
  },
  {
   "cell_type": "markdown",
   "metadata": {},
   "source": [
    "## Step 5: Check Analytics-Ready Features\n",
    "\n",
    "Let's see if the analytics-ready optimization was applied to our graph."
   ]
  },
  {
   "cell_type": "code",
   "execution_count": null,
   "metadata": {},
   "outputs": [],
   "source": [
    "# Check for graph metadata (analytics-ready indicator)\n",
    "metadata_df = execute_query(\n",
    "    \"MATCH (m:Node {node_type: 'graph_metadata'}) RETURN m.name, m.id, m.properties\",\n",
    "    \"Checking for analytics-ready metadata\"\n",
    ")\n",
    "\n",
    "if not metadata_df.empty:\n",
    "    print(\"\\n📊 Graph Metadata Found:\")\n",
    "    for _, row in metadata_df.iterrows():\n",
    "        print(f\"Name: {row['m.name']}\")\n",
    "        print(f\"ID: {row['m.id']}\")\n",
    "        print(\"Properties:\")\n",
    "        pretty_print_json(row['m.properties'])\n",
    "else:\n",
    "    print(\"❌ No analytics-ready metadata found. Graph may not be optimized.\")\n",
    "\n",
    "display(metadata_df)"
   ]
  },
  {
   "cell_type": "code",
   "execution_count": null,
   "metadata": {},
   "outputs": [],
   "source": [
    "# Check for materialized views\n",
    "views_df = execute_query(\n",
    "    \"MATCH (v:Node {node_type: 'materialized_view'}) RETURN v.name, v.id, JSON_EXTRACT(v.properties, '$.record_count') as record_count\",\n",
    "    \"Checking for materialized views (analytics-ready features)\"\n",
    ")\n",
    "\n",
    "if not views_df.empty:\n",
    "    print(f\"\\n🎉 Found {len(views_df)} materialized views! This graph is analytics-ready.\")\n",
    "    print(\"\\nAvailable views:\")\n",
    "    for _, row in views_df.iterrows():\n",
    "        print(f\"  • {row['v.name']} ({row['record_count']} records)\")\n",
    "else:\n",
    "    print(\"❌ No materialized views found. Analytics-ready optimization may not have been applied.\")\n",
    "\n",
    "display(views_df)"
   ]
  },
  {
   "cell_type": "markdown",
   "metadata": {},
   "source": [
    "## Step 6: Basic Graph Exploration"
   ]
  },
  {
   "cell_type": "code",
   "execution_count": null,
   "metadata": {},
   "outputs": [],
   "source": [
    "# Look at SSIS packages (pipelines)\n",
    "pipelines_df = execute_query(\n",
    "    \"MATCH (p:Node {node_type: 'pipeline'}) RETURN p.name as package_name, p.id as package_id LIMIT 10\",\n",
    "    \"Exploring SSIS packages in Northwind\"\n",
    ")\n",
    "display(pipelines_df)"
   ]
  },
  {
   "cell_type": "code",
   "execution_count": null,
   "metadata": {},
   "outputs": [],
   "source": [
    "# Look at operations within packages\n",
    "operations_df = execute_query(\n",
    "    \"MATCH (op:Node {node_type: 'operation'}) RETURN op.name as operation_name, op.id as operation_id LIMIT 10\",\n",
    "    \"Exploring SSIS operations in Northwind\"\n",
    ")\n",
    "display(operations_df)"
   ]
  },
  {
   "cell_type": "code",
   "execution_count": null,
   "metadata": {},
   "outputs": [],
   "source": [
    "# Look at tables/data assets\n",
    "tables_df = execute_query(\n",
    "    \"MATCH (t:Node {node_type: 'table'}) RETURN t.name as table_name, t.id as table_id LIMIT 10\",\n",
    "    \"Exploring tables/data assets in Northwind\"\n",
    ")\n",
    "display(tables_df)"
   ]
  },
  {
   "cell_type": "markdown",
   "metadata": {},
   "source": [
    "## Step 7: Understanding Relationships"
   ]
  },
  {
   "cell_type": "code",
   "execution_count": null,
   "metadata": {},
   "outputs": [],
   "source": [
    "# Check what types of relationships exist\n",
    "relationships_df = execute_query(\n",
    "    \"MATCH ()-[r]->() RETURN DISTINCT type(r) as relationship_type, count(r) as count ORDER BY count DESC\",\n",
    "    \"Analyzing relationship types in the graph\"\n",
    ")\n",
    "display(relationships_df)"
   ]
  },
  {
   "cell_type": "code",
   "execution_count": null,
   "metadata": {},
   "outputs": [],
   "source": [
    "# Look at some actual relationships\n",
    "sample_relationships_df = execute_query(\n",
    "    \"\"\"MATCH (a)-[r]->(b) \n",
    "       RETURN a.name as source, type(r) as relationship, b.name as target, \n",
    "              a.node_type as source_type, b.node_type as target_type \n",
    "       LIMIT 15\"\"\",\n",
    "    \"Sample relationships in the SSIS Northwind graph\"\n",
    ")\n",
    "display(sample_relationships_df)"
   ]
  },
  {
   "cell_type": "markdown",
   "metadata": {},
   "source": [
    "## Step 8: Summary and Next Steps\n",
    "\n",
    "Let's create a summary of what we discovered about the SSIS Northwind graph."
   ]
  },
  {
   "cell_type": "code",
   "execution_count": null,
   "metadata": {},
   "outputs": [],
   "source": [
    "print(\"📊 SSIS Northwind Graph Summary\")\n",
    "print(\"=\" * 40)\n",
    "\n",
    "# Get totals\n",
    "total_nodes = execute_query(\"MATCH (n) RETURN count(n) as count\").iloc[0]['count'] if not execute_query(\"MATCH (n) RETURN count(n) as count\").empty else 0\n",
    "total_edges = execute_query(\"MATCH ()-[r]->() RETURN count(r) as count\").iloc[0]['count'] if not execute_query(\"MATCH ()-[r]->() RETURN count(r) as count\").empty else 0\n",
    "\n",
    "print(f\"Total Nodes: {total_nodes}\")\n",
    "print(f\"Total Edges: {total_edges}\")\n",
    "\n",
    "# Check for analytics features\n",
    "has_metadata = not execute_query(\"MATCH (m:Node {node_type: 'graph_metadata'}) RETURN count(m) as count\").empty and execute_query(\"MATCH (m:Node {node_type: 'graph_metadata'}) RETURN count(m) as count\").iloc[0]['count'] > 0\n",
    "view_count = execute_query(\"MATCH (v:Node {node_type: 'materialized_view'}) RETURN count(v) as count\").iloc[0]['count'] if not execute_query(\"MATCH (v:Node {node_type: 'materialized_view'}) RETURN count(v) as count\").empty else 0\n",
    "\n",
    "print(f\"\\n🚀 Analytics-Ready Features:\")\n",
    "print(f\"Graph Metadata: {'✅ Yes' if has_metadata else '❌ No'}\")\n",
    "print(f\"Materialized Views: {view_count}\")\n",
    "\n",
    "print(f\"\\n📚 What's Next:\")\n",
    "print(\"• Open notebook 02_exploring_ssis_structure.ipynb to dive deeper into SSIS components\")\n",
    "print(\"• Open notebook 03_analytics_ready_features.ipynb to explore materialized views\")\n",
    "print(\"• Open notebook 04_advanced_queries.ipynb for complex analysis patterns\")\n",
    "print(\"• Open notebook 05_migration_analysis.ipynb to see practical migration use cases\")"
   ]
  },
  {
   "cell_type": "markdown",
   "metadata": {},
   "source": [
    "## Troubleshooting\n",
    "\n",
    "If you're not seeing the expected data:\n",
    "\n",
    "1. **Make sure Memgraph is running:**  \n",
    "   ```\n",
    "   docker ps | grep memgraph\n",
    "   ```\n",
    "\n",
    "2. **Verify SSIS Northwind was analyzed with Memgraph backend:**  \n",
    "   ```\n",
    "   cd /path/to/metazcode\n",
    "   METAZCODE_DB_BACKEND=memgraph python -m metazcode full --path data/ssis/ssis_northwind\n",
    "   ```\n",
    "\n",
    "3. **Check connection settings:** Make sure you're connecting to the right host/port\n",
    "\n",
    "4. **If nodes are 0:** The database might be empty - re-run the metazcode analysis"
   ]
  }
 ],
 "metadata": {
  "kernelspec": {
   "display_name": "Python 3",
   "language": "python",
   "name": "python3"
  },
  "language_info": {
   "codemirror_mode": {
    "name": "ipython",
    "version": 3
   },
   "file_extension": ".py",
   "mimetype": "text/x-python",
   "name": "python",
   "nbconvert_exporter": "python",
   "pygments_lexer": "ipython3",
   "version": "3.9.0"
  }
 },
 "nbformat": 4,
 "nbformat_minor": 4
}
